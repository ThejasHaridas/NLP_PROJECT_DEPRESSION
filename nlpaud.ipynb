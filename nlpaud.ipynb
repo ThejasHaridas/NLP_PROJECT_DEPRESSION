{
 "cells": [
  {
   "cell_type": "code",
   "execution_count": 3,
   "metadata": {},
   "outputs": [],
   "source": [
    "import pandas as pd\n",
    "k=pd.read_csv(r\"dev_with_labels.tsv\",delimiter='\\t')\n"
   ]
  },
  {
   "cell_type": "code",
   "execution_count": 8,
   "metadata": {},
   "outputs": [
    {
     "data": {
      "text/plain": [
       "array(['moderate', 'not depression', 'severe'], dtype=object)"
      ]
     },
     "execution_count": 8,
     "metadata": {},
     "output_type": "execute_result"
    }
   ],
   "source": [
    "k.head()\n",
    "k[\"Label\"].unique()\n"
   ]
  },
  {
   "cell_type": "code",
   "execution_count": 9,
   "metadata": {},
   "outputs": [
    {
     "data": {
      "text/html": [
       "<div>\n",
       "<style scoped>\n",
       "    .dataframe tbody tr th:only-of-type {\n",
       "        vertical-align: middle;\n",
       "    }\n",
       "\n",
       "    .dataframe tbody tr th {\n",
       "        vertical-align: top;\n",
       "    }\n",
       "\n",
       "    .dataframe thead th {\n",
       "        text-align: right;\n",
       "    }\n",
       "</style>\n",
       "<table border=\"1\" class=\"dataframe\">\n",
       "  <thead>\n",
       "    <tr style=\"text-align: right;\">\n",
       "      <th></th>\n",
       "      <th>PID</th>\n",
       "      <th>Text data</th>\n",
       "      <th>Label</th>\n",
       "    </tr>\n",
       "  </thead>\n",
       "  <tbody>\n",
       "    <tr>\n",
       "      <th>4136</th>\n",
       "      <td>dev_pid_4137</td>\n",
       "      <td>I Just Realized Why I do Poorly in School Mome...</td>\n",
       "      <td>severe</td>\n",
       "    </tr>\n",
       "    <tr>\n",
       "      <th>4137</th>\n",
       "      <td>dev_pid_4138</td>\n",
       "      <td>my libido is extremely low and id like to fix ...</td>\n",
       "      <td>severe</td>\n",
       "    </tr>\n",
       "    <tr>\n",
       "      <th>4138</th>\n",
       "      <td>dev_pid_4139</td>\n",
       "      <td>How can I [F30] stop taking paroxetine gradual...</td>\n",
       "      <td>severe</td>\n",
       "    </tr>\n",
       "    <tr>\n",
       "      <th>4139</th>\n",
       "      <td>dev_pid_4140</td>\n",
       "      <td>I just took 5 more prozac pills than i should’...</td>\n",
       "      <td>severe</td>\n",
       "    </tr>\n",
       "    <tr>\n",
       "      <th>4140</th>\n",
       "      <td>dev_pid_4141</td>\n",
       "      <td>Dreams/nightmares. : Hello I am taking propano...</td>\n",
       "      <td>severe</td>\n",
       "    </tr>\n",
       "  </tbody>\n",
       "</table>\n",
       "</div>"
      ],
      "text/plain": [
       "               PID                                          Text data   Label\n",
       "4136  dev_pid_4137  I Just Realized Why I do Poorly in School Mome...  severe\n",
       "4137  dev_pid_4138  my libido is extremely low and id like to fix ...  severe\n",
       "4138  dev_pid_4139  How can I [F30] stop taking paroxetine gradual...  severe\n",
       "4139  dev_pid_4140  I just took 5 more prozac pills than i should’...  severe\n",
       "4140  dev_pid_4141  Dreams/nightmares. : Hello I am taking propano...  severe"
      ]
     },
     "execution_count": 9,
     "metadata": {},
     "output_type": "execute_result"
    }
   ],
   "source": [
    "l=k.loc[(k[\"Label\"]==\"severe\")]\n",
    "m=k.loc[(k[\"Label\"]==\"moderate\")]\n",
    "n=k.loc[(k[\"Label\"]==\"not depression\")]\n",
    "l.head()"
   ]
  },
  {
   "cell_type": "code",
   "execution_count": 14,
   "metadata": {},
   "outputs": [
    {
     "data": {
      "image/png": "[encoded data removed]",
      "text/plain": [
       "<Figure size 640x480 with 1 Axes>"
      ]
     },
     "metadata": {},
     "output_type": "display_data"
    }
   ],
   "source": [
    "import matplotlib.pyplot as plt\n",
    "\n",
    "l_count = len(l)\n",
    "m_count = len(m)\n",
    "n_count = len(n)\n",
    "\n",
    "plt.bar(['severe', 'moderate', 'not depression'], [l_count, m_count, n_count])\n",
    "\n",
    "plt.title('Depression Levels')\n",
    "plt.xlabel('Levels')\n",
    "plt.ylabel('Number of Data points')\n",
    "\n",
    "plt.show()\n"
   ]
  }
 ],
 "metadata": {
  "kernelspec": {
   "display_name": "base",
   "language": "python",
   "name": "python3"
  },
  "language_info": {
   "codemirror_mode": {
    "name": "ipython",
    "version": 3
   },
   "file_extension": ".py",
   "mimetype": "text/x-python",
   "name": "python",
   "nbconvert_exporter": "python",
   "pygments_lexer": "ipython3",
   "version": "3.10.9"
  }
 },
 "nbformat": 4,
 "nbformat_minor": 2
}
