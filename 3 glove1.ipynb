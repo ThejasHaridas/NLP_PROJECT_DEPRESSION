{
 "cells": [
  {
   "cell_type": "code",
   "execution_count": 17,
   "metadata": {},
   "outputs": [],
   "source": [
    "import pandas as pd\n",
    "import numpy as np\n",
    "import spacy\n",
    "import string\n",
    "from sklearn.model_selection import train_test_split\n",
    "from sklearn.pipeline import Pipeline\n",
    "from sklearn.linear_model import LogisticRegression\n",
    "from sklearn.metrics import accuracy_score, precision_score, recall_score, f1_score, classification_report\n",
    "import gensim.downloader as api"
   ]
  },
  {
   "cell_type": "code",
   "execution_count": 18,
   "metadata": {},
   "outputs": [],
   "source": [
    "review = pd.read_csv('dev_with_labels.tsv', delimiter='\\t')\n",
    "review = review.rename(columns={'Text data': 'data'},)"
   ]
  },
  {
   "cell_type": "code",
   "execution_count": 19,
   "metadata": {},
   "outputs": [],
   "source": [
    "# Load spaCy model and define stop words\n",
    "nlp = spacy.load(\"en_core_web_sm\")\n",
    "stop_words = nlp.Defaults.stop_words\n",
    "punctuations = string.punctuation"
   ]
  },
  {
   "cell_type": "code",
   "execution_count": 20,
   "metadata": {},
   "outputs": [],
   "source": [
    "# Load pre-trained GloVe word vectors\n",
    "wv = api.load('glove-twitter-100')"
   ]
  },
  {
   "cell_type": "code",
   "execution_count": 21,
   "metadata": {},
   "outputs": [],
   "source": [
    "# Define the tokenizer function\n",
    "def spacy_tokenizer(sentence):\n",
    "    # Creating our token object, which is used to create documents with linguistic annotations.\n",
    "    doc = nlp(sentence)\n",
    "\n",
    "    # Lemmatizing each token and converting each token into lowercase\n",
    "    mytokens = [word.lemma_.lower().strip() for word in doc]\n",
    "\n",
    "    # Removing stop words and punctuations\n",
    "    mytokens = [word for word in mytokens if word not in stop_words and word not in punctuations]\n",
    "\n",
    "    # Return preprocessed list of tokens\n",
    "    return mytokens\n"
   ]
  },
  {
   "cell_type": "code",
   "execution_count": 22,
   "metadata": {},
   "outputs": [],
   "source": [
    "# Tokenize the text data\n",
    "review['data1'] = review['data'].apply(spacy_tokenizer)"
   ]
  },
  {
   "cell_type": "code",
   "execution_count": 23,
   "metadata": {},
   "outputs": [
    {
     "data": {
      "text/plain": [
       "100"
      ]
     },
     "execution_count": 23,
     "metadata": {},
     "output_type": "execute_result"
    }
   ],
   "source": [
    "wv.vector_size"
   ]
  },
  {
   "cell_type": "code",
   "execution_count": 24,
   "metadata": {},
   "outputs": [],
   "source": [
    "# Generate word vectors for each document\n",
    "review['vec'] = review['data1'].apply(lambda x: np.mean([wv[token] for token in x if token in wv] or [np.zeros(wv.vector_size)], axis=0))"
   ]
  },
  {
   "cell_type": "code",
   "execution_count": 25,
   "metadata": {},
   "outputs": [
    {
     "data": {
      "text/html": [
       "<div>\n",
       "<style scoped>\n",
       "    .dataframe tbody tr th:only-of-type {\n",
       "        vertical-align: middle;\n",
       "    }\n",
       "\n",
       "    .dataframe tbody tr th {\n",
       "        vertical-align: top;\n",
       "    }\n",
       "\n",
       "    .dataframe thead th {\n",
       "        text-align: right;\n",
       "    }\n",
       "</style>\n",
       "<table border=\"1\" class=\"dataframe\">\n",
       "  <thead>\n",
       "    <tr style=\"text-align: right;\">\n",
       "      <th></th>\n",
       "      <th>PID</th>\n",
       "      <th>data</th>\n",
       "      <th>Label</th>\n",
       "      <th>data1</th>\n",
       "      <th>vec</th>\n",
       "    </tr>\n",
       "  </thead>\n",
       "  <tbody>\n",
       "    <tr>\n",
       "      <th>0</th>\n",
       "      <td>dev_pid_1</td>\n",
       "      <td>I enjoyed today, and I still am! Tomorrows dep...</td>\n",
       "      <td>moderate</td>\n",
       "      <td>[enjoy, today, tomorrow, depression, wait, tod...</td>\n",
       "      <td>[0.051370677, 0.12030114, 0.087466985, -0.0455...</td>\n",
       "    </tr>\n",
       "    <tr>\n",
       "      <th>1</th>\n",
       "      <td>dev_pid_2</td>\n",
       "      <td>I sorta tried to kill myself : I had a total b...</td>\n",
       "      <td>moderate</td>\n",
       "      <td>[sorta, try, kill, total, breakdown, fucking, ...</td>\n",
       "      <td>[0.006347649, 0.04428071, 0.11420649, -0.04335...</td>\n",
       "    </tr>\n",
       "    <tr>\n",
       "      <th>2</th>\n",
       "      <td>dev_pid_3</td>\n",
       "      <td>Best suicide method? : I like it quick and eas...</td>\n",
       "      <td>moderate</td>\n",
       "      <td>[good, suicide, method, like, quick, easy, def...</td>\n",
       "      <td>[0.21656814, -0.19113775, -0.042504627, -0.029...</td>\n",
       "    </tr>\n",
       "    <tr>\n",
       "      <th>3</th>\n",
       "      <td>dev_pid_4</td>\n",
       "      <td>a story : I remember the time I'd get on my 3D...</td>\n",
       "      <td>moderate</td>\n",
       "      <td>[story, remember, time, 3ds, play, nintendogs,...</td>\n",
       "      <td>[0.14247186, 0.10691145, 0.1261191, -0.0971992...</td>\n",
       "    </tr>\n",
       "    <tr>\n",
       "      <th>4</th>\n",
       "      <td>dev_pid_5</td>\n",
       "      <td>The world only cares about beautiful people : ...</td>\n",
       "      <td>moderate</td>\n",
       "      <td>[world, care, beautiful, people, bear, ugly, u...</td>\n",
       "      <td>[-0.044080853, -0.04023238, -0.027201422, 0.27...</td>\n",
       "    </tr>\n",
       "  </tbody>\n",
       "</table>\n",
       "</div>"
      ],
      "text/plain": [
       "         PID                                               data     Label  \\\n",
       "0  dev_pid_1  I enjoyed today, and I still am! Tomorrows dep...  moderate   \n",
       "1  dev_pid_2  I sorta tried to kill myself : I had a total b...  moderate   \n",
       "2  dev_pid_3  Best suicide method? : I like it quick and eas...  moderate   \n",
       "3  dev_pid_4  a story : I remember the time I'd get on my 3D...  moderate   \n",
       "4  dev_pid_5  The world only cares about beautiful people : ...  moderate   \n",
       "\n",
       "                                               data1  \\\n",
       "0  [enjoy, today, tomorrow, depression, wait, tod...   \n",
       "1  [sorta, try, kill, total, breakdown, fucking, ...   \n",
       "2  [good, suicide, method, like, quick, easy, def...   \n",
       "3  [story, remember, time, 3ds, play, nintendogs,...   \n",
       "4  [world, care, beautiful, people, bear, ugly, u...   \n",
       "\n",
       "                                                 vec  \n",
       "0  [0.051370677, 0.12030114, 0.087466985, -0.0455...  \n",
       "1  [0.006347649, 0.04428071, 0.11420649, -0.04335...  \n",
       "2  [0.21656814, -0.19113775, -0.042504627, -0.029...  \n",
       "3  [0.14247186, 0.10691145, 0.1261191, -0.0971992...  \n",
       "4  [-0.044080853, -0.04023238, -0.027201422, 0.27...  "
      ]
     },
     "execution_count": 25,
     "metadata": {},
     "output_type": "execute_result"
    }
   ],
   "source": [
    "review.head()"
   ]
  },
  {
   "cell_type": "code",
   "execution_count": 26,
   "metadata": {},
   "outputs": [],
   "source": [
    "# Split the dataset into features (X) and labels (y)\n",
    "X = np.vstack(review['vec'])  # Convert list of arrays to a matrix\n",
    "y = review['Label']"
   ]
  },
  {
   "cell_type": "code",
   "execution_count": 27,
   "metadata": {},
   "outputs": [
    {
     "data": {
      "text/plain": [
       "(4496, 100)"
      ]
     },
     "execution_count": 27,
     "metadata": {},
     "output_type": "execute_result"
    }
   ],
   "source": [
    "X.shape"
   ]
  },
  {
   "cell_type": "code",
   "execution_count": 28,
   "metadata": {},
   "outputs": [],
   "source": [
    "X_train, X_test, y_train, y_test = train_test_split(X, y, train_size=0.8, random_state=1)"
   ]
  },
  {
   "cell_type": "code",
   "execution_count": 29,
   "metadata": {},
   "outputs": [],
   "source": [
    "# Define the model pipeline with Logistic Regression\n",
    "model_pipeline_lr = Pipeline([\n",
    "    ('lr', LogisticRegression(max_iter=1000))  # Increase max_iter to 1000 or more\n",
    "])\n",
    "\n",
    "# Train the model\n",
    "model_pipeline_lr.fit(X_train, y_train)\n",
    "\n",
    "# Predict on the test set\n",
    "y_pred_lr = model_pipeline_lr.predict(X_test)"
   ]
  },
  {
   "cell_type": "code",
   "execution_count": 30,
   "metadata": {},
   "outputs": [
    {
     "name": "stdout",
     "output_type": "stream",
     "text": [
      "0.5755555555555556\n",
      "Evaluation Metrics for Logistic Regression Model\n",
      "------------------------------------------------\n",
      "                precision    recall  f1-score   support\n",
      "\n",
      "      moderate       0.57      0.82      0.67       455\n",
      "not depression       0.60      0.37      0.46       363\n",
      "        severe       0.47      0.11      0.18        82\n",
      "\n",
      "      accuracy                           0.58       900\n",
      "     macro avg       0.55      0.43      0.44       900\n",
      "  weighted avg       0.57      0.58      0.54       900\n",
      "\n"
     ]
    }
   ],
   "source": [
    "# Evaluate the model\n",
    "accuracy_lr = accuracy_score(y_test, y_pred_lr)\n",
    "precision_lr = precision_score(y_test, y_pred_lr, average='weighted')\n",
    "recall_lr = recall_score(y_test, y_pred_lr, average='weighted')\n",
    "f1_score_lr = f1_score(y_test, y_pred_lr, average='weighted')\n",
    "classification_report_lr = classification_report(y_test, y_pred_lr)\n",
    "\n",
    "# Print evaluation metrics\n",
    "print(accuracy_lr)\n",
    "print(\"Evaluation Metrics for Logistic Regression Model\")\n",
    "print(\"------------------------------------------------\")\n",
    "print(classification_report_lr)"
   ]
  }
 ],
 "metadata": {
  "kernelspec": {
   "display_name": "Python 3 (ipykernel)",
   "language": "python",
   "name": "python3"
  },
  "language_info": {
   "codemirror_mode": {
    "name": "ipython",
    "version": 3
   },
   "file_extension": ".py",
   "mimetype": "text/x-python",
   "name": "python",
   "nbconvert_exporter": "python",
   "pygments_lexer": "ipython3",
   "version": "3.11.5"
  }
 },
 "nbformat": 4,
 "nbformat_minor": 2
}
