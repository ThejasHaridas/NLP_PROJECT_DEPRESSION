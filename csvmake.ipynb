{
 "cells": [
  {
   "cell_type": "code",
   "execution_count": 2,
   "metadata": {},
   "outputs": [],
   "source": [
    "import numpy as np\n",
    "import pandas as pd\n"
   ]
  },
  {
   "cell_type": "code",
   "execution_count": 7,
   "metadata": {},
   "outputs": [
    {
     "data": {
      "text/html": [
       "<div>\n",
       "<style scoped>\n",
       "    .dataframe tbody tr th:only-of-type {\n",
       "        vertical-align: middle;\n",
       "    }\n",
       "\n",
       "    .dataframe tbody tr th {\n",
       "        vertical-align: top;\n",
       "    }\n",
       "\n",
       "    .dataframe thead th {\n",
       "        text-align: right;\n",
       "    }\n",
       "</style>\n",
       "<table border=\"1\" class=\"dataframe\">\n",
       "  <thead>\n",
       "    <tr style=\"text-align: right;\">\n",
       "      <th></th>\n",
       "      <th>Text data</th>\n",
       "    </tr>\n",
       "  </thead>\n",
       "  <tbody>\n",
       "    <tr>\n",
       "      <th>0</th>\n",
       "      <td>My dad is in a hospital for the first time and...</td>\n",
       "    </tr>\n",
       "    <tr>\n",
       "      <th>1</th>\n",
       "      <td>I can’t take it anymore. : I’m tired. I’m exha...</td>\n",
       "    </tr>\n",
       "    <tr>\n",
       "      <th>2</th>\n",
       "      <td>I'm tired of this life : I'm tired of feeling ...</td>\n",
       "    </tr>\n",
       "    <tr>\n",
       "      <th>3</th>\n",
       "      <td>I just want to be normal : I have anxiety and ...</td>\n",
       "    </tr>\n",
       "    <tr>\n",
       "      <th>4</th>\n",
       "      <td>I have never felt so helpless : I just feel li...</td>\n",
       "    </tr>\n",
       "  </tbody>\n",
       "</table>\n",
       "</div>"
      ],
      "text/plain": [
       "                                           Text data\n",
       "0  My dad is in a hospital for the first time and...\n",
       "1  I can’t take it anymore. : I’m tired. I’m exha...\n",
       "2  I'm tired of this life : I'm tired of feeling ...\n",
       "3  I just want to be normal : I have anxiety and ...\n",
       "4  I have never felt so helpless : I just feel li..."
      ]
     },
     "execution_count": 7,
     "metadata": {},
     "output_type": "execute_result"
    }
   ],
   "source": [
    "k=pd.read_csv(r\"C:\\Users\\Thejas\\OneDrive\\Desktop\\demo\\PROJECT_NLP\\natural-language-gpt-663e4268c8e4f27fbaa64f90-data_preview.csv\")\n",
    "\n",
    "d={\"Label\":\"severe\"}\n",
    "k.head()"
   ]
  },
  {
   "cell_type": "code",
   "execution_count": 8,
   "metadata": {},
   "outputs": [
    {
     "name": "stdout",
     "output_type": "stream",
     "text": [
      "                                           Text data   label\n",
      "0  My dad is in a hospital for the first time and...  severe\n",
      "1  I can’t take it anymore. : I’m tired. I’m exha...  severe\n",
      "2  I'm tired of this life : I'm tired of feeling ...  severe\n",
      "3  I just want to be normal : I have anxiety and ...  severe\n",
      "4  I have never felt so helpless : I just feel li...  severe\n"
     ]
    }
   ],
   "source": [
    "import pandas as pd\n",
    "\n",
    "# Load the CSV file into a DataFrame\n",
    "k = pd.read_csv(r\"C:\\Users\\Thejas\\OneDrive\\Desktop\\demo\\PROJECT_NLP\\natural-language-gpt-663e4268c8e4f27fbaa64f90-data_preview.csv\")\n",
    "\n",
    "# Define the dictionary\n",
    "d = {\"Label\": \"severe\"}\n",
    "\n",
    "# Add a new column named \"label\" with the value from the dictionary\n",
    "k['label'] = d[\"Label\"]\n",
    "\n",
    "# Display the DataFrame with the new column\n",
    "print(k.head())\n"
   ]
  },
  {
   "cell_type": "code",
   "execution_count": null,
   "metadata": {},
   "outputs": [],
   "source": []
  },
  {
   "cell_type": "code",
   "execution_count": null,
   "metadata": {},
   "outputs": [],
   "source": []
  }
 ],
 "metadata": {
  "kernelspec": {
   "display_name": "base",
   "language": "python",
   "name": "python3"
  },
  "language_info": {
   "codemirror_mode": {
    "name": "ipython",
    "version": 3
   },
   "file_extension": ".py",
   "mimetype": "text/x-python",
   "name": "python",
   "nbconvert_exporter": "python",
   "pygments_lexer": "ipython3",
   "version": "3.10.9"
  }
 },
 "nbformat": 4,
 "nbformat_minor": 2
}
