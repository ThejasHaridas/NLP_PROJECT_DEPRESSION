{
 "cells": [
  {
   "cell_type": "code",
   "execution_count": 7,
   "metadata": {},
   "outputs": [
    {
     "data": {
      "text/html": [
       "<div>\n",
       "<style scoped>\n",
       "    .dataframe tbody tr th:only-of-type {\n",
       "        vertical-align: middle;\n",
       "    }\n",
       "\n",
       "    .dataframe tbody tr th {\n",
       "        vertical-align: top;\n",
       "    }\n",
       "\n",
       "    .dataframe thead th {\n",
       "        text-align: right;\n",
       "    }\n",
       "</style>\n",
       "<table border=\"1\" class=\"dataframe\">\n",
       "  <thead>\n",
       "    <tr style=\"text-align: right;\">\n",
       "      <th></th>\n",
       "      <th>PID</th>\n",
       "      <th>Review</th>\n",
       "      <th>Label</th>\n",
       "    </tr>\n",
       "  </thead>\n",
       "  <tbody>\n",
       "    <tr>\n",
       "      <th>0</th>\n",
       "      <td>dev_pid_1</td>\n",
       "      <td>I enjoyed today, and I still am! Tomorrows dep...</td>\n",
       "      <td>moderate</td>\n",
       "    </tr>\n",
       "    <tr>\n",
       "      <th>1</th>\n",
       "      <td>dev_pid_2</td>\n",
       "      <td>I sorta tried to kill myself : I had a total b...</td>\n",
       "      <td>moderate</td>\n",
       "    </tr>\n",
       "    <tr>\n",
       "      <th>2</th>\n",
       "      <td>dev_pid_3</td>\n",
       "      <td>Best suicide method? : I like it quick and eas...</td>\n",
       "      <td>moderate</td>\n",
       "    </tr>\n",
       "    <tr>\n",
       "      <th>3</th>\n",
       "      <td>dev_pid_4</td>\n",
       "      <td>a story : I remember the time I'd get on my 3D...</td>\n",
       "      <td>moderate</td>\n",
       "    </tr>\n",
       "    <tr>\n",
       "      <th>4</th>\n",
       "      <td>dev_pid_5</td>\n",
       "      <td>The world only cares about beautiful people : ...</td>\n",
       "      <td>moderate</td>\n",
       "    </tr>\n",
       "  </tbody>\n",
       "</table>\n",
       "</div>"
      ],
      "text/plain": [
       "         PID                                             Review     Label\n",
       "0  dev_pid_1  I enjoyed today, and I still am! Tomorrows dep...  moderate\n",
       "1  dev_pid_2  I sorta tried to kill myself : I had a total b...  moderate\n",
       "2  dev_pid_3  Best suicide method? : I like it quick and eas...  moderate\n",
       "3  dev_pid_4  a story : I remember the time I'd get on my 3D...  moderate\n",
       "4  dev_pid_5  The world only cares about beautiful people : ...  moderate"
      ]
     },
     "execution_count": 7,
     "metadata": {},
     "output_type": "execute_result"
    }
   ],
   "source": [
    "import pandas as pd\n",
    "\n",
    "df = pd.read_csv(\"/home/redleaf/Documents/DUK/NLP/NLP_PROJECT_DEPRESSION/dev_with_labels.tsv\", delimiter='\\t')\n",
    "df = df.rename(columns={'Text data':'Review'}, inplace=False)\n",
    "df.head()"
   ]
  },
  {
   "cell_type": "code",
   "execution_count": 8,
   "metadata": {},
   "outputs": [
    {
     "name": "stdout",
     "output_type": "stream",
     "text": [
      "<class 'pandas.core.frame.DataFrame'>\n",
      "RangeIndex: 4496 entries, 0 to 4495\n",
      "Data columns (total 3 columns):\n",
      " #   Column  Non-Null Count  Dtype \n",
      "---  ------  --------------  ----- \n",
      " 0   PID     4496 non-null   object\n",
      " 1   Review  4496 non-null   object\n",
      " 2   Label   4496 non-null   object\n",
      "dtypes: object(3)\n",
      "memory usage: 105.5+ KB\n"
     ]
    }
   ],
   "source": [
    "df.info()"
   ]
  },
  {
   "cell_type": "code",
   "execution_count": 9,
   "metadata": {},
   "outputs": [
    {
     "data": {
      "text/plain": [
       "PID       0\n",
       "Review    0\n",
       "Label     0\n",
       "dtype: int64"
      ]
     },
     "execution_count": 9,
     "metadata": {},
     "output_type": "execute_result"
    }
   ],
   "source": [
    "df.isna().sum(0)"
   ]
  },
  {
   "cell_type": "code",
   "execution_count": 10,
   "metadata": {},
   "outputs": [
    {
     "data": {
      "text/plain": [
       "Label\n",
       "moderate          2306\n",
       "not depression    1830\n",
       "severe             360\n",
       "Name: count, dtype: int64"
      ]
     },
     "execution_count": 10,
     "metadata": {},
     "output_type": "execute_result"
    }
   ],
   "source": [
    "df['Label'].value_counts()"
   ]
  },
  {
   "cell_type": "markdown",
   "metadata": {},
   "source": [
    "### Train Test Split"
   ]
  },
  {
   "cell_type": "code",
   "execution_count": 11,
   "metadata": {},
   "outputs": [],
   "source": [
    "from sklearn.model_selection import train_test_split\n",
    "\n",
    "X = df.Review\n",
    "Y = df.Label\n",
    "\n",
    "X_train, X_test, Y_train, Y_test = train_test_split(X, Y, train_size=0.8, random_state=1)"
   ]
  },
  {
   "cell_type": "markdown",
   "metadata": {},
   "source": [
    "# Count Vectorizer"
   ]
  },
  {
   "cell_type": "markdown",
   "metadata": {},
   "source": [
    "## Logistic Regression"
   ]
  },
  {
   "cell_type": "code",
   "execution_count": 16,
   "metadata": {},
   "outputs": [],
   "source": [
    "from sklearn.pipeline import Pipeline\n",
    "from sklearn.feature_extraction.text import CountVectorizer\n",
    "from sklearn.linear_model import LogisticRegression\n",
    "\n",
    "# Define the pipeline with CountVectorizer\n",
    "model_pipeline_cv = Pipeline([\n",
    "    ('cv', CountVectorizer()),  # Replace TfidfVectorizer with CountVectorizer\n",
    "    ('lr', LogisticRegression(max_iter=1000))\n",
    "])\n",
    "\n",
    "# Train the model\n",
    "model_pipeline_cv.fit(X_train, Y_train)\n",
    "\n",
    "# Predict on the test set\n",
    "y_pred_cv = model_pipeline_cv.predict(X_test)\n"
   ]
  },
  {
   "cell_type": "code",
   "execution_count": 17,
   "metadata": {},
   "outputs": [],
   "source": [
    "from sklearn.metrics import accuracy_score, precision_score, recall_score, f1_score, classification_report\n",
    "\n",
    "accuracy_lr = accuracy_score(Y_test, y_pred_lr)\n",
    "precision_lr = precision_score(Y_test, y_pred_lr, average='weighted')\n",
    "recall_lr = recall_score(Y_test, y_pred_lr, average='weighted')\n",
    "f1_score_lr = f1_score(Y_test,y_pred_lr, average='weighted')\n"
   ]
  },
  {
   "cell_type": "code",
   "execution_count": 18,
   "metadata": {},
   "outputs": [
    {
     "name": "stdout",
     "output_type": "stream",
     "text": [
      "Evaluation Metrics for Logistic Regression Model\n",
      "------------------------------------------------\n",
      "                precision    recall  f1-score   support\n",
      "\n",
      "      moderate       0.60      0.64      0.62       455\n",
      "not depression       0.56      0.58      0.57       363\n",
      "        severe       0.41      0.23      0.30        82\n",
      "\n",
      "      accuracy                           0.57       900\n",
      "     macro avg       0.52      0.48      0.49       900\n",
      "  weighted avg       0.57      0.57      0.57       900\n",
      "\n"
     ]
    }
   ],
   "source": [
    "classification_report_lr = classification_report(Y_test,y_pred_lr)\n",
    "\n",
    "print(\"Evaluation Metrics for Logistic Regression Model\")\n",
    "print(\"------------------------------------------------\")\n",
    "print(classification_report_lr)"
   ]
  },
  {
   "cell_type": "markdown",
   "metadata": {},
   "source": [
    "## SVM"
   ]
  },
  {
   "cell_type": "code",
   "execution_count": 20,
   "metadata": {},
   "outputs": [],
   "source": [
    "from sklearn.svm import SVC\n",
    "\n",
    "model_pipeline_svm = Pipeline([('tfidf',CountVectorizer()), ('svm',SVC())])\n",
    "\n",
    "#trian the model\n",
    "model_pipeline_svm.fit(X_train, Y_train)\n",
    "\n",
    "#Predict on the test set\n",
    "y_pred_svm = model_pipeline_svm.predict(X_test)"
   ]
  },
  {
   "cell_type": "code",
   "execution_count": 22,
   "metadata": {},
   "outputs": [
    {
     "name": "stdout",
     "output_type": "stream",
     "text": [
      "Evaluation Metrics for SVM Model\n",
      "--------------------------------\n",
      "                precision    recall  f1-score   support\n",
      "\n",
      "      moderate       0.60      0.74      0.66       455\n",
      "not depression       0.61      0.58      0.59       363\n",
      "        severe       0.00      0.00      0.00        82\n",
      "\n",
      "      accuracy                           0.61       900\n",
      "     macro avg       0.40      0.44      0.42       900\n",
      "  weighted avg       0.55      0.61      0.57       900\n",
      "\n"
     ]
    },
    {
     "name": "stderr",
     "output_type": "stream",
     "text": [
      "/home/redleaf/.local/lib/python3.10/site-packages/sklearn/metrics/_classification.py:1509: UndefinedMetricWarning: Precision is ill-defined and being set to 0.0 in labels with no predicted samples. Use `zero_division` parameter to control this behavior.\n",
      "  _warn_prf(average, modifier, f\"{metric.capitalize()} is\", len(result))\n",
      "/home/redleaf/.local/lib/python3.10/site-packages/sklearn/metrics/_classification.py:1509: UndefinedMetricWarning: Precision is ill-defined and being set to 0.0 in labels with no predicted samples. Use `zero_division` parameter to control this behavior.\n",
      "  _warn_prf(average, modifier, f\"{metric.capitalize()} is\", len(result))\n",
      "/home/redleaf/.local/lib/python3.10/site-packages/sklearn/metrics/_classification.py:1509: UndefinedMetricWarning: Precision is ill-defined and being set to 0.0 in labels with no predicted samples. Use `zero_division` parameter to control this behavior.\n",
      "  _warn_prf(average, modifier, f\"{metric.capitalize()} is\", len(result))\n"
     ]
    }
   ],
   "source": [
    "classification_report_svm = classification_report(Y_test,y_pred_svm)\n",
    "\n",
    "print(\"Evaluation Metrics for SVM Model\")\n",
    "print(\"--------------------------------\")\n",
    "print(classification_report_svm)"
   ]
  },
  {
   "cell_type": "markdown",
   "metadata": {},
   "source": [
    "## Decision Tree"
   ]
  },
  {
   "cell_type": "code",
   "execution_count": 23,
   "metadata": {},
   "outputs": [],
   "source": [
    "from sklearn.tree import DecisionTreeClassifier\n",
    "\n",
    "model_pipeline_dt = Pipeline([('tfidf', CountVectorizer()),('dt', DecisionTreeClassifier())])\n",
    "\n",
    "# Train the model\n",
    "model_pipeline_dt.fit(X_train, Y_train)\n",
    "\n",
    "# Predict on the test set\n",
    "y_pred_dt = model_pipeline_dt.predict(X_test)"
   ]
  },
  {
   "cell_type": "code",
   "execution_count": 24,
   "metadata": {},
   "outputs": [
    {
     "name": "stdout",
     "output_type": "stream",
     "text": [
      "Evaluation Metrics for Decision Tree Model\n",
      "------------------------------------------\n",
      "                precision    recall  f1-score   support\n",
      "\n",
      "      moderate       0.57      0.61      0.59       455\n",
      "not depression       0.53      0.53      0.53       363\n",
      "        severe       0.27      0.16      0.20        82\n",
      "\n",
      "      accuracy                           0.54       900\n",
      "     macro avg       0.46      0.43      0.44       900\n",
      "  weighted avg       0.53      0.54      0.53       900\n",
      "\n"
     ]
    }
   ],
   "source": [
    "classification_report_dt = classification_report(Y_test, y_pred_dt)\n",
    "\n",
    "# Print evaluation metrics\n",
    "print(\"Evaluation Metrics for Decision Tree Model\")\n",
    "print(\"------------------------------------------\")\n",
    "print(classification_report_dt)"
   ]
  },
  {
   "cell_type": "markdown",
   "metadata": {},
   "source": [
    "## Random Forest"
   ]
  },
  {
   "cell_type": "code",
   "execution_count": 25,
   "metadata": {},
   "outputs": [],
   "source": [
    "from sklearn.ensemble import RandomForestClassifier\n",
    "\n",
    "model_pipeline_rf = Pipeline([('tfidf', CountVectorizer()),('rf', RandomForestClassifier())])\n",
    "\n",
    "# Train the model\n",
    "model_pipeline_rf.fit(X_train, Y_train)\n",
    "\n",
    "# Predict on the test set\n",
    "y_pred_rf = model_pipeline_rf.predict(X_test)"
   ]
  },
  {
   "cell_type": "code",
   "execution_count": 26,
   "metadata": {},
   "outputs": [
    {
     "name": "stdout",
     "output_type": "stream",
     "text": [
      "Evaluation Metrics for Random Forest Model\n",
      "------------------------------------------\n",
      "                precision    recall  f1-score   support\n",
      "\n",
      "      moderate       0.59      0.80      0.68       455\n",
      "not depression       0.64      0.51      0.57       363\n",
      "        severe       0.50      0.01      0.02        82\n",
      "\n",
      "      accuracy                           0.61       900\n",
      "     macro avg       0.58      0.44      0.42       900\n",
      "  weighted avg       0.61      0.61      0.58       900\n",
      "\n"
     ]
    }
   ],
   "source": [
    "classification_report_rf = classification_report(Y_test, y_pred_rf)\n",
    "\n",
    "# Print evaluation metrics\n",
    "print(\"Evaluation Metrics for Random Forest Model\")\n",
    "print(\"------------------------------------------\")\n",
    "print(classification_report_rf)"
   ]
  }
 ],
 "metadata": {
  "kernelspec": {
   "display_name": "Python 3",
   "language": "python",
   "name": "python3"
  },
  "language_info": {
   "codemirror_mode": {
    "name": "ipython",
    "version": 3
   },
   "file_extension": ".py",
   "mimetype": "text/x-python",
   "name": "python",
   "nbconvert_exporter": "python",
   "pygments_lexer": "ipython3",
   "version": "3.10.12"
  }
 },
 "nbformat": 4,
 "nbformat_minor": 2
}
